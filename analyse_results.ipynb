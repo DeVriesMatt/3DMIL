{
 "cells": [
  {
   "cell_type": "code",
   "execution_count": 1,
   "id": "bb2850b9",
   "metadata": {},
   "outputs": [
    {
     "name": "stdout",
     "output_type": "stream",
     "text": [
      "{'Palbociclib_fold_9': 0.9777777791023254, 'PF228_fold_9': 0.9333333373069764, 'Nocodazole_fold_9': 1, 'MK1775_fold_9': 0.7333333492279053, 'H1152_fold_9': 0.9777777791023254, 'DMSO_fold_9': 0.8666666746139526, 'CK666_fold_9': 0.9111111164093018, 'Blebbistatin_fold_9': 1, 'Binimetinib_fold_9': 0.9111111164093018, 'Palbociclib_fold_8': 0.9333333373069764, 'PF228_fold_8': 0.8666666746139526, 'Nocodazole_fold_8': 1, 'MK1775_fold_8': 0.8222222328186035, 'H1152_fold_8': 0.9555555582046508, 'DMSO_fold_8': 0.800000011920929, 'CK666_fold_8': 0.8888888955116272, 'Blebbistatin_fold_8': 0.9777777791023254, 'Binimetinib_fold_8': 0.8888888955116272, 'Palbociclib_fold_7': 0.9333333373069764, 'PF228_fold_7': 0.9111111164093018, 'Nocodazole_fold_7': 1, 'MK1775_fold_7': 0.8666666746139526, 'H1152_fold_7': 1, 'DMSO_fold_7': 0.8666666746139526, 'CK666_fold_7': 0.9333333373069764, 'Blebbistatin_fold_7': 1, 'Binimetinib_fold_7': 0.8888888955116272, 'Palbociclib_fold_6': 0.9333333373069764, 'PF228_fold_6': 0.8666666746139526, 'Nocodazole_fold_6': 1, 'MK1775_fold_6': 0.8888888955116272, 'H1152_fold_6': 0.9333333373069764, 'DMSO_fold_6': 0.6888889074325562, 'CK666_fold_6': 0.9333333373069764, 'Blebbistatin_fold_6': 0.9777777791023254, 'Binimetinib_fold_6': 0.8888888955116272, 'Palbociclib_fold_5': 0.9111111164093018, 'PF228_fold_5': 0.9555555582046508, 'Nocodazole_fold_5': 1, 'MK1775_fold_5': 0.8222222328186035, 'H1152_fold_5': 0.9777777791023254, 'DMSO_fold_5': 0.7333333492279053, 'CK666_fold_5': 0.9333333373069764, 'Blebbistatin_fold_5': 1, 'Binimetinib_fold_5': 0.8888888955116272, 'Palbociclib_fold_4': 0.9555555582046508, 'PF228_fold_4': 0.8666666746139526, 'Nocodazole_fold_4': 1, 'MK1775_fold_4': 0.8444444537162781, 'H1152_fold_4': 1, 'DMSO_fold_4': 0.8888888955116272, 'CK666_fold_4': 0.8888888955116272, 'Blebbistatin_fold_4': 1, 'Binimetinib_fold_4': 0.9777777791023254, 'Palbociclib_fold_3': 0.9333333373069764, 'PF228_fold_3': 0.8444444537162781, 'Nocodazole_fold_3': 1, 'MK1775_fold_3': 0.800000011920929, 'H1152_fold_3': 0.9555555582046508, 'DMSO_fold_3': 0.7777777910232544, 'CK666_fold_3': 1, 'Blebbistatin_fold_3': 0.9555555582046508, 'Binimetinib_fold_3': 0.8666666746139526, 'Palbociclib_fold_2': 0.8666666746139526, 'PF228_fold_2': 0.8888888955116272, 'Nocodazole_fold_2': 0.9777777791023254, 'MK1775_fold_2': 0.8222222328186035, 'H1152_fold_2': 0.8666666746139526, 'DMSO_fold_2': 0.800000011920929, 'CK666_fold_2': 0.9111111164093018, 'Blebbistatin_fold_2': 0.9777777791023254, 'Binimetinib_fold_2': 0.9333333373069764, 'Palbociclib_fold_1': 0.9333333373069764, 'PF228_fold_1': 0.9111111164093018, 'Nocodazole_fold_1': 1, 'MK1775_fold_1': 0.9111111164093018, 'H1152_fold_1': 0.9111111164093018, 'DMSO_fold_1': 0.8666666746139526, 'CK666_fold_1': 0.9333333373069764, 'Blebbistatin_fold_1': 0.9333333373069764, 'Binimetinib_fold_1': 0.9555555582046508, 'Palbociclib_fold_0': 0.9111111164093018, 'PF228_fold_0': 0.8888888955116272, 'Nocodazole_fold_0': 0.9777777791023254, 'MK1775_fold_0': 0.8222222328186035, 'H1152_fold_0': 0.9333333373069764, 'DMSO_fold_0': 0.8888888955116272, 'CK666_fold_0': 0.8666666746139526, 'Blebbistatin_fold_0': 1, 'Binimetinib_fold_0': 0.9333333373069764}\n"
     ]
    }
   ],
   "source": [
    "import wandb\n",
    "\n",
    "# Initialize the API\n",
    "api = wandb.Api()\n",
    "\n",
    "# Replace \"my-user-name\" and \"my-project-name\" with your username and project name\n",
    "runs = api.runs(\"mattdevries/TransTest\")\n",
    "\n",
    "\n",
    "test_accuracies = {}\n",
    "\n",
    "for run in runs:\n",
    "    if 'test_acc_epoch' in run.summary:\n",
    "        test_accuracies[run.name] = run.summary['test_acc_epoch']\n",
    "\n",
    "print(test_accuracies)\n"
   ]
  },
  {
   "cell_type": "code",
   "execution_count": 2,
   "id": "6343383b",
   "metadata": {},
   "outputs": [],
   "source": [
    "import pandas as pd\n",
    "\n",
    "df = pd.DataFrame(test_accuracies, index=[0])"
   ]
  },
  {
   "cell_type": "code",
   "execution_count": 3,
   "id": "fba3c0f8",
   "metadata": {},
   "outputs": [],
   "source": [
    "df_correct = df.iloc[:,:-9]"
   ]
  },
  {
   "cell_type": "code",
   "execution_count": 4,
   "id": "ba62f901",
   "metadata": {},
   "outputs": [],
   "source": [
    "df_correct = df_correct.T"
   ]
  },
  {
   "cell_type": "code",
   "execution_count": 5,
   "id": "60c8b70b",
   "metadata": {},
   "outputs": [],
   "source": [
    "df_correct['Drug'] = [i.split('_')[0] for i in df_correct.index]\n",
    "df_correct['Fold'] = [i.split('_')[2] for i in df_correct.index]\n"
   ]
  },
  {
   "cell_type": "code",
   "execution_count": 6,
   "id": "636f157b",
   "metadata": {},
   "outputs": [
    {
     "data": {
      "text/plain": [
       "Palbociclib_fold_9     9\n",
       "PF228_fold_9           9\n",
       "Nocodazole_fold_9      9\n",
       "MK1775_fold_9          9\n",
       "H1152_fold_9           9\n",
       "                      ..\n",
       "H1152_fold_1           1\n",
       "DMSO_fold_1            1\n",
       "CK666_fold_1           1\n",
       "Blebbistatin_fold_1    1\n",
       "Binimetinib_fold_1     1\n",
       "Name: Fold, Length: 81, dtype: object"
      ]
     },
     "execution_count": 6,
     "metadata": {},
     "output_type": "execute_result"
    }
   ],
   "source": [
    "df_correct['Fold']"
   ]
  },
  {
   "cell_type": "code",
   "execution_count": 7,
   "id": "898a8e8f",
   "metadata": {},
   "outputs": [
    {
     "data": {
      "text/html": [
       "<div>\n",
       "<style scoped>\n",
       "    .dataframe tbody tr th:only-of-type {\n",
       "        vertical-align: middle;\n",
       "    }\n",
       "\n",
       "    .dataframe tbody tr th {\n",
       "        vertical-align: top;\n",
       "    }\n",
       "\n",
       "    .dataframe thead th {\n",
       "        text-align: right;\n",
       "    }\n",
       "</style>\n",
       "<table border=\"1\" class=\"dataframe\">\n",
       "  <thead>\n",
       "    <tr style=\"text-align: right;\">\n",
       "      <th></th>\n",
       "      <th>0</th>\n",
       "      <th>Fold</th>\n",
       "    </tr>\n",
       "    <tr>\n",
       "      <th>Drug</th>\n",
       "      <th></th>\n",
       "      <th></th>\n",
       "    </tr>\n",
       "  </thead>\n",
       "  <tbody>\n",
       "    <tr>\n",
       "      <th>Binimetinib</th>\n",
       "      <td>0.911111</td>\n",
       "      <td>109739369.0</td>\n",
       "    </tr>\n",
       "    <tr>\n",
       "      <th>Blebbistatin</th>\n",
       "      <td>0.980247</td>\n",
       "      <td>109739369.0</td>\n",
       "    </tr>\n",
       "    <tr>\n",
       "      <th>CK666</th>\n",
       "      <td>0.925926</td>\n",
       "      <td>109739369.0</td>\n",
       "    </tr>\n",
       "    <tr>\n",
       "      <th>DMSO</th>\n",
       "      <td>0.809877</td>\n",
       "      <td>109739369.0</td>\n",
       "    </tr>\n",
       "    <tr>\n",
       "      <th>H1152</th>\n",
       "      <td>0.953086</td>\n",
       "      <td>109739369.0</td>\n",
       "    </tr>\n",
       "    <tr>\n",
       "      <th>MK1775</th>\n",
       "      <td>0.834568</td>\n",
       "      <td>109739369.0</td>\n",
       "    </tr>\n",
       "    <tr>\n",
       "      <th>Nocodazole</th>\n",
       "      <td>0.997531</td>\n",
       "      <td>109739369.0</td>\n",
       "    </tr>\n",
       "    <tr>\n",
       "      <th>PF228</th>\n",
       "      <td>0.893827</td>\n",
       "      <td>109739369.0</td>\n",
       "    </tr>\n",
       "    <tr>\n",
       "      <th>Palbociclib</th>\n",
       "      <td>0.930864</td>\n",
       "      <td>109739369.0</td>\n",
       "    </tr>\n",
       "  </tbody>\n",
       "</table>\n",
       "</div>"
      ],
      "text/plain": [
       "                     0         Fold\n",
       "Drug                               \n",
       "Binimetinib   0.911111  109739369.0\n",
       "Blebbistatin  0.980247  109739369.0\n",
       "CK666         0.925926  109739369.0\n",
       "DMSO          0.809877  109739369.0\n",
       "H1152         0.953086  109739369.0\n",
       "MK1775        0.834568  109739369.0\n",
       "Nocodazole    0.997531  109739369.0\n",
       "PF228         0.893827  109739369.0\n",
       "Palbociclib   0.930864  109739369.0"
      ]
     },
     "execution_count": 7,
     "metadata": {},
     "output_type": "execute_result"
    }
   ],
   "source": [
    "df_correct.groupby('Drug').mean()"
   ]
  },
  {
   "cell_type": "code",
   "execution_count": 8,
   "id": "8f8d0abe",
   "metadata": {},
   "outputs": [
    {
     "data": {
      "text/html": [
       "<div>\n",
       "<style scoped>\n",
       "    .dataframe tbody tr th:only-of-type {\n",
       "        vertical-align: middle;\n",
       "    }\n",
       "\n",
       "    .dataframe tbody tr th {\n",
       "        vertical-align: top;\n",
       "    }\n",
       "\n",
       "    .dataframe thead th {\n",
       "        text-align: right;\n",
       "    }\n",
       "</style>\n",
       "<table border=\"1\" class=\"dataframe\">\n",
       "  <thead>\n",
       "    <tr style=\"text-align: right;\">\n",
       "      <th></th>\n",
       "      <th>0</th>\n",
       "      <th>Fold</th>\n",
       "    </tr>\n",
       "    <tr>\n",
       "      <th>Drug</th>\n",
       "      <th></th>\n",
       "      <th></th>\n",
       "    </tr>\n",
       "  </thead>\n",
       "  <tbody>\n",
       "    <tr>\n",
       "      <th>Binimetinib</th>\n",
       "      <td>0.036851</td>\n",
       "      <td>2.738613</td>\n",
       "    </tr>\n",
       "    <tr>\n",
       "      <th>Blebbistatin</th>\n",
       "      <td>0.023424</td>\n",
       "      <td>2.738613</td>\n",
       "    </tr>\n",
       "    <tr>\n",
       "      <th>CK666</th>\n",
       "      <td>0.033333</td>\n",
       "      <td>2.738613</td>\n",
       "    </tr>\n",
       "    <tr>\n",
       "      <th>DMSO</th>\n",
       "      <td>0.068594</td>\n",
       "      <td>2.738613</td>\n",
       "    </tr>\n",
       "    <tr>\n",
       "      <th>H1152</th>\n",
       "      <td>0.043666</td>\n",
       "      <td>2.738613</td>\n",
       "    </tr>\n",
       "    <tr>\n",
       "      <th>MK1775</th>\n",
       "      <td>0.052247</td>\n",
       "      <td>2.738613</td>\n",
       "    </tr>\n",
       "    <tr>\n",
       "      <th>Nocodazole</th>\n",
       "      <td>0.007407</td>\n",
       "      <td>2.738613</td>\n",
       "    </tr>\n",
       "    <tr>\n",
       "      <th>PF228</th>\n",
       "      <td>0.036477</td>\n",
       "      <td>2.738613</td>\n",
       "    </tr>\n",
       "    <tr>\n",
       "      <th>Palbociclib</th>\n",
       "      <td>0.030316</td>\n",
       "      <td>2.738613</td>\n",
       "    </tr>\n",
       "  </tbody>\n",
       "</table>\n",
       "</div>"
      ],
      "text/plain": [
       "                     0      Fold\n",
       "Drug                            \n",
       "Binimetinib   0.036851  2.738613\n",
       "Blebbistatin  0.023424  2.738613\n",
       "CK666         0.033333  2.738613\n",
       "DMSO          0.068594  2.738613\n",
       "H1152         0.043666  2.738613\n",
       "MK1775        0.052247  2.738613\n",
       "Nocodazole    0.007407  2.738613\n",
       "PF228         0.036477  2.738613\n",
       "Palbociclib   0.030316  2.738613"
      ]
     },
     "execution_count": 8,
     "metadata": {},
     "output_type": "execute_result"
    }
   ],
   "source": [
    "df_correct.groupby('Drug').std()"
   ]
  },
  {
   "cell_type": "code",
   "execution_count": 30,
   "id": "c6df115c",
   "metadata": {},
   "outputs": [
    {
     "data": {
      "text/plain": [
       "tensor([-1.2141])"
      ]
     },
     "execution_count": 30,
     "metadata": {},
     "output_type": "execute_result"
    }
   ],
   "source": [
    "import torch\n",
    "\n",
    "x = torch.randn(1)\n",
    "x"
   ]
  },
  {
   "cell_type": "code",
   "execution_count": 31,
   "id": "b498d4fb",
   "metadata": {},
   "outputs": [
    {
     "data": {
      "text/plain": [
       "tensor([0.2290])"
      ]
     },
     "execution_count": 31,
     "metadata": {},
     "output_type": "execute_result"
    }
   ],
   "source": [
    "torch.sigmoid(x)"
   ]
  },
  {
   "cell_type": "code",
   "execution_count": 34,
   "id": "f475b333",
   "metadata": {},
   "outputs": [
    {
     "name": "stdout",
     "output_type": "stream",
     "text": [
      "tensor([0.2290])\n",
      "0\n"
     ]
    }
   ],
   "source": [
    "print(torch.sigmoid(x))\n",
    "\n",
    "print(int(torch.sigmoid(x)))"
   ]
  },
  {
   "cell_type": "code",
   "execution_count": null,
   "id": "b2faf4a9",
   "metadata": {},
   "outputs": [],
   "source": []
  }
 ],
 "metadata": {
  "kernelspec": {
   "display_name": "Python 3 (ipykernel)",
   "language": "python",
   "name": "python3"
  },
  "language_info": {
   "codemirror_mode": {
    "name": "ipython",
    "version": 3
   },
   "file_extension": ".py",
   "mimetype": "text/x-python",
   "name": "python",
   "nbconvert_exporter": "python",
   "pygments_lexer": "ipython3",
   "version": "3.8.13"
  }
 },
 "nbformat": 4,
 "nbformat_minor": 5
}
